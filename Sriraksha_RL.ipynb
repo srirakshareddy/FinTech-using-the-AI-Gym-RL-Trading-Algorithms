{
  "cells": [
    {
      "cell_type": "markdown",
      "metadata": {
        "id": "view-in-github",
        "colab_type": "text"
      },
      "source": [
        "<a href=\"https://colab.research.google.com/github/srirakshareddy/FinTech-using-the-AI-Gym-RL-Trading-Algorithms/blob/main/Sriraksha_RL.ipynb\" target=\"_parent\"><img src=\"https://colab.research.google.com/assets/colab-badge.svg\" alt=\"Open In Colab\"/></a>"
      ]
    },
    {
      "cell_type": "markdown",
      "metadata": {
        "id": "Ktf5GoZrjxmN"
      },
      "source": [
        "# 0. Install and Import dependencies"
      ]
    },
    {
      "cell_type": "code",
      "execution_count": null,
      "metadata": {
        "colab": {
          "base_uri": "https://localhost:8080/"
        },
        "id": "OTGRSTv8jxmb",
        "outputId": "93a8068a-68a5-46fe-c607-d85fce125c43"
      },
      "outputs": [
        {
          "output_type": "stream",
          "name": "stdout",
          "text": [
            "Collecting tensorflow==1.15\n",
            "  Downloading tensorflow-1.15.0-cp37-cp37m-manylinux2010_x86_64.whl (412.3 MB)\n",
            "\u001b[K     |████████████████████████████████| 412.3 MB 24 kB/s \n",
            "\u001b[?25hCollecting tensorflow-gpu==1.15\n",
            "  Downloading tensorflow_gpu-1.15.0-cp37-cp37m-manylinux2010_x86_64.whl (411.5 MB)\n",
            "\u001b[K     |████████████████████████████████| 411.5 MB 7.8 kB/s \n",
            "\u001b[?25hCollecting stable-baselines\n",
            "  Downloading stable_baselines-2.10.2-py3-none-any.whl (240 kB)\n",
            "\u001b[K     |████████████████████████████████| 240 kB 38.3 MB/s \n",
            "\u001b[?25hCollecting gym-anytrading\n",
            "  Downloading gym_anytrading-1.2.0-py3-none-any.whl (171 kB)\n",
            "\u001b[K     |████████████████████████████████| 171 kB 62.5 MB/s \n",
            "\u001b[?25hRequirement already satisfied: gym in /usr/local/lib/python3.7/dist-packages (0.17.3)\n",
            "Requirement already satisfied: termcolor>=1.1.0 in /usr/local/lib/python3.7/dist-packages (from tensorflow==1.15) (1.1.0)\n",
            "Requirement already satisfied: opt-einsum>=2.3.2 in /usr/local/lib/python3.7/dist-packages (from tensorflow==1.15) (3.3.0)\n",
            "Requirement already satisfied: wrapt>=1.11.1 in /usr/local/lib/python3.7/dist-packages (from tensorflow==1.15) (1.13.3)\n",
            "Collecting gast==0.2.2\n",
            "  Downloading gast-0.2.2.tar.gz (10 kB)\n",
            "Requirement already satisfied: six>=1.10.0 in /usr/local/lib/python3.7/dist-packages (from tensorflow==1.15) (1.15.0)\n",
            "Collecting keras-applications>=1.0.8\n",
            "  Downloading Keras_Applications-1.0.8-py3-none-any.whl (50 kB)\n",
            "\u001b[K     |████████████████████████████████| 50 kB 4.9 MB/s \n",
            "\u001b[?25hRequirement already satisfied: keras-preprocessing>=1.0.5 in /usr/local/lib/python3.7/dist-packages (from tensorflow==1.15) (1.1.2)\n",
            "Requirement already satisfied: absl-py>=0.7.0 in /usr/local/lib/python3.7/dist-packages (from tensorflow==1.15) (1.0.0)\n",
            "Requirement already satisfied: google-pasta>=0.1.6 in /usr/local/lib/python3.7/dist-packages (from tensorflow==1.15) (0.2.0)\n",
            "Collecting tensorflow-estimator==1.15.1\n",
            "  Downloading tensorflow_estimator-1.15.1-py2.py3-none-any.whl (503 kB)\n",
            "\u001b[K     |████████████████████████████████| 503 kB 39.6 MB/s \n",
            "\u001b[?25hRequirement already satisfied: grpcio>=1.8.6 in /usr/local/lib/python3.7/dist-packages (from tensorflow==1.15) (1.43.0)\n",
            "Collecting tensorboard<1.16.0,>=1.15.0\n",
            "  Downloading tensorboard-1.15.0-py3-none-any.whl (3.8 MB)\n",
            "\u001b[K     |████████████████████████████████| 3.8 MB 47.0 MB/s \n",
            "\u001b[?25hRequirement already satisfied: wheel>=0.26 in /usr/local/lib/python3.7/dist-packages (from tensorflow==1.15) (0.37.1)\n",
            "Requirement already satisfied: numpy<2.0,>=1.16.0 in /usr/local/lib/python3.7/dist-packages (from tensorflow==1.15) (1.21.5)\n",
            "Requirement already satisfied: protobuf>=3.6.1 in /usr/local/lib/python3.7/dist-packages (from tensorflow==1.15) (3.17.3)\n",
            "Requirement already satisfied: astor>=0.6.0 in /usr/local/lib/python3.7/dist-packages (from tensorflow==1.15) (0.8.1)\n",
            "Requirement already satisfied: h5py in /usr/local/lib/python3.7/dist-packages (from keras-applications>=1.0.8->tensorflow==1.15) (3.1.0)\n",
            "Requirement already satisfied: werkzeug>=0.11.15 in /usr/local/lib/python3.7/dist-packages (from tensorboard<1.16.0,>=1.15.0->tensorflow==1.15) (1.0.1)\n",
            "Requirement already satisfied: setuptools>=41.0.0 in /usr/local/lib/python3.7/dist-packages (from tensorboard<1.16.0,>=1.15.0->tensorflow==1.15) (57.4.0)\n",
            "Requirement already satisfied: markdown>=2.6.8 in /usr/local/lib/python3.7/dist-packages (from tensorboard<1.16.0,>=1.15.0->tensorflow==1.15) (3.3.6)\n",
            "Requirement already satisfied: importlib-metadata>=4.4 in /usr/local/lib/python3.7/dist-packages (from markdown>=2.6.8->tensorboard<1.16.0,>=1.15.0->tensorflow==1.15) (4.11.0)\n",
            "Requirement already satisfied: zipp>=0.5 in /usr/local/lib/python3.7/dist-packages (from importlib-metadata>=4.4->markdown>=2.6.8->tensorboard<1.16.0,>=1.15.0->tensorflow==1.15) (3.7.0)\n",
            "Requirement already satisfied: typing-extensions>=3.6.4 in /usr/local/lib/python3.7/dist-packages (from importlib-metadata>=4.4->markdown>=2.6.8->tensorboard<1.16.0,>=1.15.0->tensorflow==1.15) (3.10.0.2)\n",
            "Requirement already satisfied: opencv-python in /usr/local/lib/python3.7/dist-packages (from stable-baselines) (4.1.2.30)\n",
            "Requirement already satisfied: scipy in /usr/local/lib/python3.7/dist-packages (from stable-baselines) (1.4.1)\n",
            "Requirement already satisfied: joblib in /usr/local/lib/python3.7/dist-packages (from stable-baselines) (1.1.0)\n",
            "Requirement already satisfied: cloudpickle>=0.5.5 in /usr/local/lib/python3.7/dist-packages (from stable-baselines) (1.3.0)\n",
            "Requirement already satisfied: matplotlib in /usr/local/lib/python3.7/dist-packages (from stable-baselines) (3.2.2)\n",
            "Requirement already satisfied: pandas in /usr/local/lib/python3.7/dist-packages (from stable-baselines) (1.3.5)\n",
            "Requirement already satisfied: pyglet<=1.5.0,>=1.4.0 in /usr/local/lib/python3.7/dist-packages (from gym) (1.5.0)\n",
            "Requirement already satisfied: atari-py~=0.2.0 in /usr/local/lib/python3.7/dist-packages (from gym) (0.2.9)\n",
            "Requirement already satisfied: Pillow in /usr/local/lib/python3.7/dist-packages (from gym) (7.1.2)\n",
            "Requirement already satisfied: future in /usr/local/lib/python3.7/dist-packages (from pyglet<=1.5.0,>=1.4.0->gym) (0.16.0)\n",
            "Requirement already satisfied: cycler>=0.10 in /usr/local/lib/python3.7/dist-packages (from matplotlib->stable-baselines) (0.11.0)\n",
            "Requirement already satisfied: kiwisolver>=1.0.1 in /usr/local/lib/python3.7/dist-packages (from matplotlib->stable-baselines) (1.3.2)\n",
            "Requirement already satisfied: python-dateutil>=2.1 in /usr/local/lib/python3.7/dist-packages (from matplotlib->stable-baselines) (2.8.2)\n",
            "Requirement already satisfied: pyparsing!=2.0.4,!=2.1.2,!=2.1.6,>=2.0.1 in /usr/local/lib/python3.7/dist-packages (from matplotlib->stable-baselines) (3.0.7)\n",
            "Requirement already satisfied: pytz>=2017.3 in /usr/local/lib/python3.7/dist-packages (from pandas->stable-baselines) (2018.9)\n",
            "Requirement already satisfied: cached-property in /usr/local/lib/python3.7/dist-packages (from h5py->keras-applications>=1.0.8->tensorflow==1.15) (1.5.2)\n",
            "Building wheels for collected packages: gast\n",
            "  Building wheel for gast (setup.py) ... \u001b[?25l\u001b[?25hdone\n",
            "  Created wheel for gast: filename=gast-0.2.2-py3-none-any.whl size=7554 sha256=f78283c3b90dfa506e223c96c7d0ccf584dbc7b24a7d7b611a729ab6446cb5a1\n",
            "  Stored in directory: /root/.cache/pip/wheels/21/7f/02/420f32a803f7d0967b48dd823da3f558c5166991bfd204eef3\n",
            "Successfully built gast\n",
            "Installing collected packages: tensorflow-estimator, tensorboard, keras-applications, gast, tensorflow-gpu, tensorflow, stable-baselines, gym-anytrading\n",
            "  Attempting uninstall: tensorflow-estimator\n",
            "    Found existing installation: tensorflow-estimator 2.8.0\n",
            "    Uninstalling tensorflow-estimator-2.8.0:\n",
            "      Successfully uninstalled tensorflow-estimator-2.8.0\n",
            "  Attempting uninstall: tensorboard\n",
            "    Found existing installation: tensorboard 2.8.0\n",
            "    Uninstalling tensorboard-2.8.0:\n",
            "      Successfully uninstalled tensorboard-2.8.0\n",
            "  Attempting uninstall: gast\n",
            "    Found existing installation: gast 0.5.3\n",
            "    Uninstalling gast-0.5.3:\n",
            "      Successfully uninstalled gast-0.5.3\n",
            "  Attempting uninstall: tensorflow\n",
            "    Found existing installation: tensorflow 2.8.0\n",
            "    Uninstalling tensorflow-2.8.0:\n",
            "      Successfully uninstalled tensorflow-2.8.0\n",
            "\u001b[31mERROR: pip's dependency resolver does not currently take into account all the packages that are installed. This behaviour is the source of the following dependency conflicts.\n",
            "tensorflow-probability 0.15.0 requires gast>=0.3.2, but you have gast 0.2.2 which is incompatible.\n",
            "kapre 0.3.7 requires tensorflow>=2.0.0, but you have tensorflow 1.15.0 which is incompatible.\u001b[0m\n",
            "Successfully installed gast-0.2.2 gym-anytrading-1.2.0 keras-applications-1.0.8 stable-baselines-2.10.2 tensorboard-1.15.0 tensorflow-1.15.0 tensorflow-estimator-1.15.1 tensorflow-gpu-1.15.0\n"
          ]
        }
      ],
      "source": [
        "!pip install tensorflow==1.15 tensorflow-gpu==1.15 stable-baselines gym-anytrading gym"
      ]
    },
    {
      "cell_type": "code",
      "execution_count": null,
      "metadata": {
        "id": "x-f7M_W_jxmf",
        "outputId": "babef4a9-c450-4c05-f177-03a034848189",
        "colab": {
          "base_uri": "https://localhost:8080/"
        }
      },
      "outputs": [
        {
          "output_type": "execute_result",
          "data": {
            "text/plain": [
              "0"
            ]
          },
          "metadata": {},
          "execution_count": 2
        }
      ],
      "source": [
        "import subprocess\n",
        "import sys\n",
        "subprocess.check_call([sys.executable, \"-m\",\n",
        "    \"pip\", \"install\", \"--user\", \"tensorflow==1.15.0\"])"
      ]
    },
    {
      "cell_type": "code",
      "execution_count": null,
      "metadata": {
        "id": "4RUsv25bjxmh"
      },
      "outputs": [],
      "source": [
        "import tensorflow as tf"
      ]
    },
    {
      "cell_type": "code",
      "execution_count": null,
      "metadata": {
        "id": "H59UEng-jxmi",
        "colab": {
          "base_uri": "https://localhost:8080/"
        },
        "outputId": "0106e11b-6a92-4780-9c5a-019ef7e13dd7"
      },
      "outputs": [
        {
          "output_type": "stream",
          "name": "stdout",
          "text": [
            "Requirement already satisfied: tensorflow-gpu==1.15 in /usr/local/lib/python3.7/dist-packages (1.15.0)\n",
            "Requirement already satisfied: tensorboard<1.16.0,>=1.15.0 in /usr/local/lib/python3.7/dist-packages (from tensorflow-gpu==1.15) (1.15.0)\n",
            "Requirement already satisfied: wheel>=0.26 in /usr/local/lib/python3.7/dist-packages (from tensorflow-gpu==1.15) (0.37.1)\n",
            "Requirement already satisfied: keras-preprocessing>=1.0.5 in /usr/local/lib/python3.7/dist-packages (from tensorflow-gpu==1.15) (1.1.2)\n",
            "Requirement already satisfied: grpcio>=1.8.6 in /usr/local/lib/python3.7/dist-packages (from tensorflow-gpu==1.15) (1.43.0)\n",
            "Requirement already satisfied: absl-py>=0.7.0 in /usr/local/lib/python3.7/dist-packages (from tensorflow-gpu==1.15) (1.0.0)\n",
            "Requirement already satisfied: keras-applications>=1.0.8 in /usr/local/lib/python3.7/dist-packages (from tensorflow-gpu==1.15) (1.0.8)\n",
            "Requirement already satisfied: numpy<2.0,>=1.16.0 in /usr/local/lib/python3.7/dist-packages (from tensorflow-gpu==1.15) (1.21.5)\n",
            "Requirement already satisfied: opt-einsum>=2.3.2 in /usr/local/lib/python3.7/dist-packages (from tensorflow-gpu==1.15) (3.3.0)\n",
            "Requirement already satisfied: termcolor>=1.1.0 in /usr/local/lib/python3.7/dist-packages (from tensorflow-gpu==1.15) (1.1.0)\n",
            "Requirement already satisfied: protobuf>=3.6.1 in /usr/local/lib/python3.7/dist-packages (from tensorflow-gpu==1.15) (3.17.3)\n",
            "Requirement already satisfied: google-pasta>=0.1.6 in /usr/local/lib/python3.7/dist-packages (from tensorflow-gpu==1.15) (0.2.0)\n",
            "Requirement already satisfied: tensorflow-estimator==1.15.1 in /usr/local/lib/python3.7/dist-packages (from tensorflow-gpu==1.15) (1.15.1)\n",
            "Requirement already satisfied: astor>=0.6.0 in /usr/local/lib/python3.7/dist-packages (from tensorflow-gpu==1.15) (0.8.1)\n",
            "Requirement already satisfied: wrapt>=1.11.1 in /usr/local/lib/python3.7/dist-packages (from tensorflow-gpu==1.15) (1.13.3)\n",
            "Requirement already satisfied: six>=1.10.0 in /usr/local/lib/python3.7/dist-packages (from tensorflow-gpu==1.15) (1.15.0)\n",
            "Requirement already satisfied: gast==0.2.2 in /usr/local/lib/python3.7/dist-packages (from tensorflow-gpu==1.15) (0.2.2)\n",
            "Requirement already satisfied: h5py in /usr/local/lib/python3.7/dist-packages (from keras-applications>=1.0.8->tensorflow-gpu==1.15) (3.1.0)\n",
            "Requirement already satisfied: werkzeug>=0.11.15 in /usr/local/lib/python3.7/dist-packages (from tensorboard<1.16.0,>=1.15.0->tensorflow-gpu==1.15) (1.0.1)\n",
            "Requirement already satisfied: setuptools>=41.0.0 in /usr/local/lib/python3.7/dist-packages (from tensorboard<1.16.0,>=1.15.0->tensorflow-gpu==1.15) (57.4.0)\n",
            "Requirement already satisfied: markdown>=2.6.8 in /usr/local/lib/python3.7/dist-packages (from tensorboard<1.16.0,>=1.15.0->tensorflow-gpu==1.15) (3.3.6)\n",
            "Requirement already satisfied: importlib-metadata>=4.4 in /usr/local/lib/python3.7/dist-packages (from markdown>=2.6.8->tensorboard<1.16.0,>=1.15.0->tensorflow-gpu==1.15) (4.11.0)\n",
            "Requirement already satisfied: zipp>=0.5 in /usr/local/lib/python3.7/dist-packages (from importlib-metadata>=4.4->markdown>=2.6.8->tensorboard<1.16.0,>=1.15.0->tensorflow-gpu==1.15) (3.7.0)\n",
            "Requirement already satisfied: typing-extensions>=3.6.4 in /usr/local/lib/python3.7/dist-packages (from importlib-metadata>=4.4->markdown>=2.6.8->tensorboard<1.16.0,>=1.15.0->tensorflow-gpu==1.15) (3.10.0.2)\n",
            "Requirement already satisfied: cached-property in /usr/local/lib/python3.7/dist-packages (from h5py->keras-applications>=1.0.8->tensorflow-gpu==1.15) (1.5.2)\n"
          ]
        }
      ],
      "source": [
        "!pip install tensorflow-gpu==1.15"
      ]
    },
    {
      "cell_type": "code",
      "execution_count": null,
      "metadata": {
        "colab": {
          "base_uri": "https://localhost:8080/"
        },
        "id": "O9-29bIIjxmj",
        "outputId": "76bf5232-78a5-4c7b-c2e0-2c40baf430c4"
      },
      "outputs": [
        {
          "output_type": "stream",
          "name": "stdout",
          "text": [
            "TensorFlow is already loaded. Please restart the runtime to change versions.\n"
          ]
        }
      ],
      "source": [
        "%tensorflow_version 1.x"
      ]
    },
    {
      "cell_type": "code",
      "execution_count": null,
      "metadata": {
        "colab": {
          "base_uri": "https://localhost:8080/"
        },
        "id": "lI-IqTZqjxmn",
        "outputId": "aff8a2ec-00be-470f-fe7d-c3da905d5548"
      },
      "outputs": [
        {
          "output_type": "stream",
          "name": "stdout",
          "text": [
            "1.15.0\n"
          ]
        }
      ],
      "source": [
        "print(tf.__version__)"
      ]
    },
    {
      "cell_type": "code",
      "execution_count": null,
      "metadata": {
        "id": "ySscfckUjxmq",
        "outputId": "20502a82-9611-4c26-db8c-17abcf422208",
        "colab": {
          "base_uri": "https://localhost:8080/"
        }
      },
      "outputs": [
        {
          "output_type": "stream",
          "name": "stdout",
          "text": [
            "pip 21.1.3 from /usr/local/lib/python3.7/dist-packages/pip (python 3.7)\n"
          ]
        }
      ],
      "source": [
        "!pip --version"
      ]
    },
    {
      "cell_type": "code",
      "execution_count": null,
      "metadata": {
        "id": "bLysWz6Kjxmt",
        "outputId": "efb95789-9ae6-4846-f226-44d56e516484",
        "colab": {
          "base_uri": "https://localhost:8080/"
        }
      },
      "outputs": [
        {
          "output_type": "stream",
          "name": "stdout",
          "text": [
            "Requirement already satisfied: numpy in /usr/local/lib/python3.7/dist-packages (1.21.5)\n",
            "Requirement already satisfied: pandas in /usr/local/lib/python3.7/dist-packages (1.3.5)\n",
            "Requirement already satisfied: matplotlib in /usr/local/lib/python3.7/dist-packages (3.2.2)\n",
            "Requirement already satisfied: python-dateutil>=2.7.3 in /usr/local/lib/python3.7/dist-packages (from pandas) (2.8.2)\n",
            "Requirement already satisfied: pytz>=2017.3 in /usr/local/lib/python3.7/dist-packages (from pandas) (2018.9)\n",
            "Requirement already satisfied: six>=1.5 in /usr/local/lib/python3.7/dist-packages (from python-dateutil>=2.7.3->pandas) (1.15.0)\n",
            "Requirement already satisfied: cycler>=0.10 in /usr/local/lib/python3.7/dist-packages (from matplotlib) (0.11.0)\n",
            "Requirement already satisfied: pyparsing!=2.0.4,!=2.1.2,!=2.1.6,>=2.0.1 in /usr/local/lib/python3.7/dist-packages (from matplotlib) (3.0.7)\n",
            "Requirement already satisfied: kiwisolver>=1.0.1 in /usr/local/lib/python3.7/dist-packages (from matplotlib) (1.3.2)\n"
          ]
        }
      ],
      "source": [
        "!pip install numpy pandas matplotlib"
      ]
    },
    {
      "cell_type": "code",
      "execution_count": null,
      "metadata": {
        "id": "tH8nTaSMjxmv",
        "colab": {
          "base_uri": "https://localhost:8080/"
        },
        "outputId": "cc728495-8d32-4f2a-89e8-b0551f02a981"
      },
      "outputs": [
        {
          "output_type": "stream",
          "name": "stdout",
          "text": [
            "WARNING:tensorflow:\n",
            "The TensorFlow contrib module will not be included in TensorFlow 2.0.\n",
            "For more information, please see:\n",
            "  * https://github.com/tensorflow/community/blob/master/rfcs/20180907-contrib-sunset.md\n",
            "  * https://github.com/tensorflow/addons\n",
            "  * https://github.com/tensorflow/io (for I/O related ops)\n",
            "If you depend on functionality not listed there, please file an issue.\n",
            "\n"
          ]
        },
        {
          "output_type": "stream",
          "name": "stderr",
          "text": [
            "/usr/local/lib/python3.7/dist-packages/stable_baselines/__init__.py:33: UserWarning: stable-baselines is in maintenance mode, please use [Stable-Baselines3 (SB3)](https://github.com/DLR-RM/stable-baselines3) for an up-to-date version. You can find a [migration guide](https://stable-baselines3.readthedocs.io/en/master/guide/migration.html) in SB3 documentation.\n",
            "  \"stable-baselines is in maintenance mode, please use [Stable-Baselines3 (SB3)](https://github.com/DLR-RM/stable-baselines3) for an up-to-date version. You can find a [migration guide](https://stable-baselines3.readthedocs.io/en/master/guide/migration.html) in SB3 documentation.\"\n"
          ]
        }
      ],
      "source": [
        "# Importing Gym\n",
        "import gym\n",
        "import gym_anytrading\n",
        "\n",
        "# Importing Stable baselines - rl \n",
        "from stable_baselines.common.vec_env import DummyVecEnv\n",
        "from stable_baselines import A2C\n",
        "\n",
        "# Processing libraries\n",
        "import numpy as np\n",
        "import pandas as pd\n",
        "from matplotlib import pyplot as plt"
      ]
    },
    {
      "cell_type": "markdown",
      "metadata": {
        "id": "xPBa8D4gjxmx"
      },
      "source": [
        "# 1. Using Marketwatch GME Data \n",
        "https://www.marketwatch.com/investing/stock/gme/download-data?startDate=11/1/2019&endDate=03/12/2021"
      ]
    },
    {
      "cell_type": "code",
      "execution_count": null,
      "metadata": {
        "id": "sQK44_1Wjxmy"
      },
      "outputs": [],
      "source": [
        "df = pd.read_csv('//content/MSFT (1).csv')"
      ]
    },
    {
      "cell_type": "code",
      "source": [
        "from google.colab import drive\n",
        "drive.mount('/content/drive')"
      ],
      "metadata": {
        "colab": {
          "base_uri": "https://localhost:8080/"
        },
        "id": "HdxxRF90kyci",
        "outputId": "f50db3e5-d82b-4fac-fbce-44dd3b71e156"
      },
      "execution_count": null,
      "outputs": [
        {
          "output_type": "stream",
          "name": "stdout",
          "text": [
            "Mounted at /content/drive\n"
          ]
        }
      ]
    },
    {
      "cell_type": "code",
      "execution_count": null,
      "metadata": {
        "colab": {
          "base_uri": "https://localhost:8080/",
          "height": 206
        },
        "id": "akIO3vaojxmz",
        "outputId": "c6565cba-6dc4-42e7-80c1-0ccafb4f52f5"
      },
      "outputs": [
        {
          "output_type": "execute_result",
          "data": {
            "text/html": [
              "\n",
              "  <div id=\"df-d21f757d-1c19-4864-94f5-b554993c7b34\">\n",
              "    <div class=\"colab-df-container\">\n",
              "      <div>\n",
              "<style scoped>\n",
              "    .dataframe tbody tr th:only-of-type {\n",
              "        vertical-align: middle;\n",
              "    }\n",
              "\n",
              "    .dataframe tbody tr th {\n",
              "        vertical-align: top;\n",
              "    }\n",
              "\n",
              "    .dataframe thead th {\n",
              "        text-align: right;\n",
              "    }\n",
              "</style>\n",
              "<table border=\"1\" class=\"dataframe\">\n",
              "  <thead>\n",
              "    <tr style=\"text-align: right;\">\n",
              "      <th></th>\n",
              "      <th>Date</th>\n",
              "      <th>Open</th>\n",
              "      <th>High</th>\n",
              "      <th>Low</th>\n",
              "      <th>Close</th>\n",
              "      <th>Adj_Close</th>\n",
              "      <th>Volume</th>\n",
              "    </tr>\n",
              "  </thead>\n",
              "  <tbody>\n",
              "    <tr>\n",
              "      <th>0</th>\n",
              "      <td>18-08-21</td>\n",
              "      <td>292.040009</td>\n",
              "      <td>294.820007</td>\n",
              "      <td>290.269989</td>\n",
              "      <td>290.730011</td>\n",
              "      <td>289.600281</td>\n",
              "      <td>21813000</td>\n",
              "    </tr>\n",
              "    <tr>\n",
              "      <th>1</th>\n",
              "      <td>19-08-21</td>\n",
              "      <td>288.690002</td>\n",
              "      <td>297.470001</td>\n",
              "      <td>288.640015</td>\n",
              "      <td>296.769989</td>\n",
              "      <td>295.616760</td>\n",
              "      <td>29850500</td>\n",
              "    </tr>\n",
              "    <tr>\n",
              "      <th>2</th>\n",
              "      <td>20-08-21</td>\n",
              "      <td>299.720001</td>\n",
              "      <td>305.839996</td>\n",
              "      <td>298.059998</td>\n",
              "      <td>304.359985</td>\n",
              "      <td>303.177277</td>\n",
              "      <td>40796100</td>\n",
              "    </tr>\n",
              "    <tr>\n",
              "      <th>3</th>\n",
              "      <td>23-08-21</td>\n",
              "      <td>303.250000</td>\n",
              "      <td>305.399994</td>\n",
              "      <td>301.850006</td>\n",
              "      <td>304.649994</td>\n",
              "      <td>303.466187</td>\n",
              "      <td>22830200</td>\n",
              "    </tr>\n",
              "    <tr>\n",
              "      <th>4</th>\n",
              "      <td>24-08-21</td>\n",
              "      <td>305.019989</td>\n",
              "      <td>305.649994</td>\n",
              "      <td>302.000000</td>\n",
              "      <td>302.619995</td>\n",
              "      <td>301.444061</td>\n",
              "      <td>18175800</td>\n",
              "    </tr>\n",
              "  </tbody>\n",
              "</table>\n",
              "</div>\n",
              "      <button class=\"colab-df-convert\" onclick=\"convertToInteractive('df-d21f757d-1c19-4864-94f5-b554993c7b34')\"\n",
              "              title=\"Convert this dataframe to an interactive table.\"\n",
              "              style=\"display:none;\">\n",
              "        \n",
              "  <svg xmlns=\"http://www.w3.org/2000/svg\" height=\"24px\"viewBox=\"0 0 24 24\"\n",
              "       width=\"24px\">\n",
              "    <path d=\"M0 0h24v24H0V0z\" fill=\"none\"/>\n",
              "    <path d=\"M18.56 5.44l.94 2.06.94-2.06 2.06-.94-2.06-.94-.94-2.06-.94 2.06-2.06.94zm-11 1L8.5 8.5l.94-2.06 2.06-.94-2.06-.94L8.5 2.5l-.94 2.06-2.06.94zm10 10l.94 2.06.94-2.06 2.06-.94-2.06-.94-.94-2.06-.94 2.06-2.06.94z\"/><path d=\"M17.41 7.96l-1.37-1.37c-.4-.4-.92-.59-1.43-.59-.52 0-1.04.2-1.43.59L10.3 9.45l-7.72 7.72c-.78.78-.78 2.05 0 2.83L4 21.41c.39.39.9.59 1.41.59.51 0 1.02-.2 1.41-.59l7.78-7.78 2.81-2.81c.8-.78.8-2.07 0-2.86zM5.41 20L4 18.59l7.72-7.72 1.47 1.35L5.41 20z\"/>\n",
              "  </svg>\n",
              "      </button>\n",
              "      \n",
              "  <style>\n",
              "    .colab-df-container {\n",
              "      display:flex;\n",
              "      flex-wrap:wrap;\n",
              "      gap: 12px;\n",
              "    }\n",
              "\n",
              "    .colab-df-convert {\n",
              "      background-color: #E8F0FE;\n",
              "      border: none;\n",
              "      border-radius: 50%;\n",
              "      cursor: pointer;\n",
              "      display: none;\n",
              "      fill: #1967D2;\n",
              "      height: 32px;\n",
              "      padding: 0 0 0 0;\n",
              "      width: 32px;\n",
              "    }\n",
              "\n",
              "    .colab-df-convert:hover {\n",
              "      background-color: #E2EBFA;\n",
              "      box-shadow: 0px 1px 2px rgba(60, 64, 67, 0.3), 0px 1px 3px 1px rgba(60, 64, 67, 0.15);\n",
              "      fill: #174EA6;\n",
              "    }\n",
              "\n",
              "    [theme=dark] .colab-df-convert {\n",
              "      background-color: #3B4455;\n",
              "      fill: #D2E3FC;\n",
              "    }\n",
              "\n",
              "    [theme=dark] .colab-df-convert:hover {\n",
              "      background-color: #434B5C;\n",
              "      box-shadow: 0px 1px 3px 1px rgba(0, 0, 0, 0.15);\n",
              "      filter: drop-shadow(0px 1px 2px rgba(0, 0, 0, 0.3));\n",
              "      fill: #FFFFFF;\n",
              "    }\n",
              "  </style>\n",
              "\n",
              "      <script>\n",
              "        const buttonEl =\n",
              "          document.querySelector('#df-d21f757d-1c19-4864-94f5-b554993c7b34 button.colab-df-convert');\n",
              "        buttonEl.style.display =\n",
              "          google.colab.kernel.accessAllowed ? 'block' : 'none';\n",
              "\n",
              "        async function convertToInteractive(key) {\n",
              "          const element = document.querySelector('#df-d21f757d-1c19-4864-94f5-b554993c7b34');\n",
              "          const dataTable =\n",
              "            await google.colab.kernel.invokeFunction('convertToInteractive',\n",
              "                                                     [key], {});\n",
              "          if (!dataTable) return;\n",
              "\n",
              "          const docLinkHtml = 'Like what you see? Visit the ' +\n",
              "            '<a target=\"_blank\" href=https://colab.research.google.com/notebooks/data_table.ipynb>data table notebook</a>'\n",
              "            + ' to learn more about interactive tables.';\n",
              "          element.innerHTML = '';\n",
              "          dataTable['output_type'] = 'display_data';\n",
              "          await google.colab.output.renderOutput(dataTable, element);\n",
              "          const docLink = document.createElement('div');\n",
              "          docLink.innerHTML = docLinkHtml;\n",
              "          element.appendChild(docLink);\n",
              "        }\n",
              "      </script>\n",
              "    </div>\n",
              "  </div>\n",
              "  "
            ],
            "text/plain": [
              "       Date        Open        High  ...       Close   Adj_Close    Volume\n",
              "0  18-08-21  292.040009  294.820007  ...  290.730011  289.600281  21813000\n",
              "1  19-08-21  288.690002  297.470001  ...  296.769989  295.616760  29850500\n",
              "2  20-08-21  299.720001  305.839996  ...  304.359985  303.177277  40796100\n",
              "3  23-08-21  303.250000  305.399994  ...  304.649994  303.466187  22830200\n",
              "4  24-08-21  305.019989  305.649994  ...  302.619995  301.444061  18175800\n",
              "\n",
              "[5 rows x 7 columns]"
            ]
          },
          "metadata": {},
          "execution_count": 14
        }
      ],
      "source": [
        "df.head()"
      ]
    },
    {
      "cell_type": "code",
      "execution_count": null,
      "metadata": {
        "colab": {
          "base_uri": "https://localhost:8080/"
        },
        "id": "yZ1pwBufjxm0",
        "outputId": "84da684b-0dbb-459c-bbf7-c5a903ab92a9"
      },
      "outputs": [
        {
          "output_type": "execute_result",
          "data": {
            "text/plain": [
              "Date         datetime64[ns]\n",
              "Open                float64\n",
              "High                float64\n",
              "Low                 float64\n",
              "Close               float64\n",
              "Adj_Close           float64\n",
              "Volume                int64\n",
              "dtype: object"
            ]
          },
          "metadata": {},
          "execution_count": 16
        }
      ],
      "source": [
        "df['Date'] = pd.to_datetime(df['Date'])\n",
        "df.dtypes"
      ]
    },
    {
      "cell_type": "code",
      "execution_count": null,
      "metadata": {
        "colab": {
          "base_uri": "https://localhost:8080/",
          "height": 237
        },
        "id": "Cf9I_hryjxm1",
        "outputId": "f7dc18d2-792c-4763-8d6c-dec71c39a50c"
      },
      "outputs": [
        {
          "output_type": "execute_result",
          "data": {
            "text/html": [
              "\n",
              "  <div id=\"df-7b7ece3c-3301-45b7-889a-b508854c23af\">\n",
              "    <div class=\"colab-df-container\">\n",
              "      <div>\n",
              "<style scoped>\n",
              "    .dataframe tbody tr th:only-of-type {\n",
              "        vertical-align: middle;\n",
              "    }\n",
              "\n",
              "    .dataframe tbody tr th {\n",
              "        vertical-align: top;\n",
              "    }\n",
              "\n",
              "    .dataframe thead th {\n",
              "        text-align: right;\n",
              "    }\n",
              "</style>\n",
              "<table border=\"1\" class=\"dataframe\">\n",
              "  <thead>\n",
              "    <tr style=\"text-align: right;\">\n",
              "      <th></th>\n",
              "      <th>Open</th>\n",
              "      <th>High</th>\n",
              "      <th>Low</th>\n",
              "      <th>Close</th>\n",
              "      <th>Adj_Close</th>\n",
              "      <th>Volume</th>\n",
              "    </tr>\n",
              "    <tr>\n",
              "      <th>Date</th>\n",
              "      <th></th>\n",
              "      <th></th>\n",
              "      <th></th>\n",
              "      <th></th>\n",
              "      <th></th>\n",
              "      <th></th>\n",
              "    </tr>\n",
              "  </thead>\n",
              "  <tbody>\n",
              "    <tr>\n",
              "      <th>2021-08-18</th>\n",
              "      <td>292.040009</td>\n",
              "      <td>294.820007</td>\n",
              "      <td>290.269989</td>\n",
              "      <td>290.730011</td>\n",
              "      <td>289.600281</td>\n",
              "      <td>21813000</td>\n",
              "    </tr>\n",
              "    <tr>\n",
              "      <th>2021-08-19</th>\n",
              "      <td>288.690002</td>\n",
              "      <td>297.470001</td>\n",
              "      <td>288.640015</td>\n",
              "      <td>296.769989</td>\n",
              "      <td>295.616760</td>\n",
              "      <td>29850500</td>\n",
              "    </tr>\n",
              "    <tr>\n",
              "      <th>2021-08-20</th>\n",
              "      <td>299.720001</td>\n",
              "      <td>305.839996</td>\n",
              "      <td>298.059998</td>\n",
              "      <td>304.359985</td>\n",
              "      <td>303.177277</td>\n",
              "      <td>40796100</td>\n",
              "    </tr>\n",
              "    <tr>\n",
              "      <th>2021-08-23</th>\n",
              "      <td>303.250000</td>\n",
              "      <td>305.399994</td>\n",
              "      <td>301.850006</td>\n",
              "      <td>304.649994</td>\n",
              "      <td>303.466187</td>\n",
              "      <td>22830200</td>\n",
              "    </tr>\n",
              "    <tr>\n",
              "      <th>2021-08-24</th>\n",
              "      <td>305.019989</td>\n",
              "      <td>305.649994</td>\n",
              "      <td>302.000000</td>\n",
              "      <td>302.619995</td>\n",
              "      <td>301.444061</td>\n",
              "      <td>18175800</td>\n",
              "    </tr>\n",
              "  </tbody>\n",
              "</table>\n",
              "</div>\n",
              "      <button class=\"colab-df-convert\" onclick=\"convertToInteractive('df-7b7ece3c-3301-45b7-889a-b508854c23af')\"\n",
              "              title=\"Convert this dataframe to an interactive table.\"\n",
              "              style=\"display:none;\">\n",
              "        \n",
              "  <svg xmlns=\"http://www.w3.org/2000/svg\" height=\"24px\"viewBox=\"0 0 24 24\"\n",
              "       width=\"24px\">\n",
              "    <path d=\"M0 0h24v24H0V0z\" fill=\"none\"/>\n",
              "    <path d=\"M18.56 5.44l.94 2.06.94-2.06 2.06-.94-2.06-.94-.94-2.06-.94 2.06-2.06.94zm-11 1L8.5 8.5l.94-2.06 2.06-.94-2.06-.94L8.5 2.5l-.94 2.06-2.06.94zm10 10l.94 2.06.94-2.06 2.06-.94-2.06-.94-.94-2.06-.94 2.06-2.06.94z\"/><path d=\"M17.41 7.96l-1.37-1.37c-.4-.4-.92-.59-1.43-.59-.52 0-1.04.2-1.43.59L10.3 9.45l-7.72 7.72c-.78.78-.78 2.05 0 2.83L4 21.41c.39.39.9.59 1.41.59.51 0 1.02-.2 1.41-.59l7.78-7.78 2.81-2.81c.8-.78.8-2.07 0-2.86zM5.41 20L4 18.59l7.72-7.72 1.47 1.35L5.41 20z\"/>\n",
              "  </svg>\n",
              "      </button>\n",
              "      \n",
              "  <style>\n",
              "    .colab-df-container {\n",
              "      display:flex;\n",
              "      flex-wrap:wrap;\n",
              "      gap: 12px;\n",
              "    }\n",
              "\n",
              "    .colab-df-convert {\n",
              "      background-color: #E8F0FE;\n",
              "      border: none;\n",
              "      border-radius: 50%;\n",
              "      cursor: pointer;\n",
              "      display: none;\n",
              "      fill: #1967D2;\n",
              "      height: 32px;\n",
              "      padding: 0 0 0 0;\n",
              "      width: 32px;\n",
              "    }\n",
              "\n",
              "    .colab-df-convert:hover {\n",
              "      background-color: #E2EBFA;\n",
              "      box-shadow: 0px 1px 2px rgba(60, 64, 67, 0.3), 0px 1px 3px 1px rgba(60, 64, 67, 0.15);\n",
              "      fill: #174EA6;\n",
              "    }\n",
              "\n",
              "    [theme=dark] .colab-df-convert {\n",
              "      background-color: #3B4455;\n",
              "      fill: #D2E3FC;\n",
              "    }\n",
              "\n",
              "    [theme=dark] .colab-df-convert:hover {\n",
              "      background-color: #434B5C;\n",
              "      box-shadow: 0px 1px 3px 1px rgba(0, 0, 0, 0.15);\n",
              "      filter: drop-shadow(0px 1px 2px rgba(0, 0, 0, 0.3));\n",
              "      fill: #FFFFFF;\n",
              "    }\n",
              "  </style>\n",
              "\n",
              "      <script>\n",
              "        const buttonEl =\n",
              "          document.querySelector('#df-7b7ece3c-3301-45b7-889a-b508854c23af button.colab-df-convert');\n",
              "        buttonEl.style.display =\n",
              "          google.colab.kernel.accessAllowed ? 'block' : 'none';\n",
              "\n",
              "        async function convertToInteractive(key) {\n",
              "          const element = document.querySelector('#df-7b7ece3c-3301-45b7-889a-b508854c23af');\n",
              "          const dataTable =\n",
              "            await google.colab.kernel.invokeFunction('convertToInteractive',\n",
              "                                                     [key], {});\n",
              "          if (!dataTable) return;\n",
              "\n",
              "          const docLinkHtml = 'Like what you see? Visit the ' +\n",
              "            '<a target=\"_blank\" href=https://colab.research.google.com/notebooks/data_table.ipynb>data table notebook</a>'\n",
              "            + ' to learn more about interactive tables.';\n",
              "          element.innerHTML = '';\n",
              "          dataTable['output_type'] = 'display_data';\n",
              "          await google.colab.output.renderOutput(dataTable, element);\n",
              "          const docLink = document.createElement('div');\n",
              "          docLink.innerHTML = docLinkHtml;\n",
              "          element.appendChild(docLink);\n",
              "        }\n",
              "      </script>\n",
              "    </div>\n",
              "  </div>\n",
              "  "
            ],
            "text/plain": [
              "                  Open        High  ...   Adj_Close    Volume\n",
              "Date                                ...                      \n",
              "2021-08-18  292.040009  294.820007  ...  289.600281  21813000\n",
              "2021-08-19  288.690002  297.470001  ...  295.616760  29850500\n",
              "2021-08-20  299.720001  305.839996  ...  303.177277  40796100\n",
              "2021-08-23  303.250000  305.399994  ...  303.466187  22830200\n",
              "2021-08-24  305.019989  305.649994  ...  301.444061  18175800\n",
              "\n",
              "[5 rows x 6 columns]"
            ]
          },
          "metadata": {},
          "execution_count": 17
        }
      ],
      "source": [
        "df.set_index('Date', inplace=True)\n",
        "df.head()"
      ]
    },
    {
      "cell_type": "code",
      "execution_count": null,
      "metadata": {
        "id": "7UflxxZyjxm2"
      },
      "outputs": [],
      "source": [
        "env = gym.make('stocks-v0', df=df, frame_bound=(5,100), window_size=5)"
      ]
    },
    {
      "cell_type": "code",
      "execution_count": null,
      "metadata": {
        "scrolled": true,
        "colab": {
          "base_uri": "https://localhost:8080/"
        },
        "id": "Kpe9au4Mjxm4",
        "outputId": "08606192-e095-45cd-faa0-cbedf4ec9c2e"
      },
      "outputs": [
        {
          "output_type": "execute_result",
          "data": {
            "text/plain": [
              "array([[ 2.90730011e+02,  0.00000000e+00],\n",
              "       [ 2.96769989e+02,  6.03997800e+00],\n",
              "       [ 3.04359985e+02,  7.58999600e+00],\n",
              "       [ 3.04649994e+02,  2.90009000e-01],\n",
              "       [ 3.02619995e+02, -2.02999900e+00],\n",
              "       [ 3.02010010e+02, -6.09985000e-01],\n",
              "       [ 2.99089996e+02, -2.92001400e+00],\n",
              "       [ 2.99720001e+02,  6.30005000e-01],\n",
              "       [ 3.03589996e+02,  3.86999500e+00],\n",
              "       [ 3.01880005e+02, -1.70999100e+00],\n",
              "       [ 3.01829987e+02, -5.00180000e-02],\n",
              "       [ 3.01149994e+02, -6.79993000e-01],\n",
              "       [ 3.01140015e+02, -9.97900000e-03],\n",
              "       [ 3.00179993e+02, -9.60022000e-01],\n",
              "       [ 3.00209991e+02,  2.99980000e-02],\n",
              "       [ 2.97250000e+02, -2.95999100e+00],\n",
              "       [ 2.95709991e+02, -1.54000900e+00],\n",
              "       [ 2.96989990e+02,  1.27999900e+00],\n",
              "       [ 2.99790009e+02,  2.80001900e+00],\n",
              "       [ 3.04820007e+02,  5.02999800e+00],\n",
              "       [ 3.05220001e+02,  3.99994000e-01],\n",
              "       [ 2.99869995e+02, -5.35000600e+00],\n",
              "       [ 2.94299988e+02, -5.57000700e+00],\n",
              "       [ 2.94799988e+02,  5.00000000e-01],\n",
              "       [ 2.98579987e+02,  3.77999900e+00],\n",
              "       [ 2.99559998e+02,  9.80011000e-01],\n",
              "       [ 2.99350006e+02, -2.09992000e-01],\n",
              "       [ 2.94170013e+02, -5.17999300e+00],\n",
              "       [ 2.83519989e+02, -1.06500240e+01],\n",
              "       [ 2.84000000e+02,  4.80011000e-01],\n",
              "       [ 2.81920013e+02, -2.07998700e+00],\n",
              "       [ 2.89100006e+02,  7.17999300e+00],\n",
              "       [ 2.83109985e+02, -5.99002100e+00],\n",
              "       [ 2.88760010e+02,  5.65002500e+00],\n",
              "       [ 2.93109985e+02,  4.34997500e+00],\n",
              "       [ 2.94850006e+02,  1.74002100e+00],\n",
              "       [ 2.94850006e+02,  0.00000000e+00],\n",
              "       [ 2.94230011e+02, -6.19995000e-01],\n",
              "       [ 2.92880005e+02, -1.35000600e+00],\n",
              "       [ 2.96309998e+02,  3.42999300e+00],\n",
              "       [ 3.02750000e+02,  6.44000200e+00],\n",
              "       [ 3.04209991e+02,  1.45999100e+00],\n",
              "       [ 3.07290009e+02,  3.08001800e+00],\n",
              "       [ 3.08230011e+02,  9.40002000e-01],\n",
              "       [ 3.07410004e+02, -8.20007000e-01],\n",
              "       [ 3.10760010e+02,  3.35000600e+00],\n",
              "       [ 3.09160004e+02, -1.60000600e+00],\n",
              "       [ 3.08130005e+02, -1.02999900e+00],\n",
              "       [ 3.10109985e+02,  1.97998000e+00],\n",
              "       [ 3.23170013e+02,  1.30600280e+01],\n",
              "       [ 3.24350006e+02,  1.17999300e+00],\n",
              "       [ 3.31619995e+02,  7.26998900e+00],\n",
              "       [ 3.29369995e+02, -2.25000000e+00],\n",
              "       [ 3.33130005e+02,  3.76001000e+00],\n",
              "       [ 3.34000000e+02,  8.69995000e-01],\n",
              "       [ 3.36440002e+02,  2.44000200e+00],\n",
              "       [ 3.36059998e+02, -3.80004000e-01],\n",
              "       [ 3.36989990e+02,  9.29992000e-01],\n",
              "       [ 3.35950012e+02, -1.03997800e+00],\n",
              "       [ 3.30799988e+02, -5.15002400e+00],\n",
              "       [ 3.32429993e+02,  1.63000500e+00],\n",
              "       [ 3.36720001e+02,  4.29000800e+00],\n",
              "       [ 3.36070007e+02, -6.49994000e-01],\n",
              "       [ 3.39510010e+02,  3.44000300e+00],\n",
              "       [ 3.39119995e+02, -3.90015000e-01],\n",
              "       [ 3.41269989e+02,  2.14999400e+00],\n",
              "       [ 3.43109985e+02,  1.83999600e+00],\n",
              "       [ 3.39829987e+02, -3.27999800e+00],\n",
              "       [ 3.37679993e+02, -2.14999400e+00],\n",
              "       [ 3.37910004e+02,  2.30011000e-01],\n",
              "       [ 3.29679993e+02, -8.23001100e+00],\n",
              "       [ 3.36630005e+02,  6.95001200e+00],\n",
              "       [ 3.30589996e+02, -6.04000900e+00],\n",
              "       [ 3.30079987e+02, -5.10009000e-01],\n",
              "       [ 3.29489990e+02, -5.89997000e-01],\n",
              "       [ 3.23010010e+02, -6.47998000e+00],\n",
              "       [ 3.26190002e+02,  3.17999200e+00],\n",
              "       [ 3.34920013e+02,  8.73001100e+00],\n",
              "       [ 3.34970001e+02,  4.99880000e-02],\n",
              "       [ 3.33100006e+02, -1.86999500e+00],\n",
              "       [ 3.42540009e+02,  9.44000300e+00],\n",
              "       [ 3.39399994e+02, -3.14001500e+00],\n",
              "       [ 3.28339996e+02, -1.10599980e+01],\n",
              "       [ 3.34649994e+02,  6.30999800e+00],\n",
              "       [ 3.24899994e+02, -9.75000000e+00],\n",
              "       [ 3.23799988e+02, -1.10000600e+00],\n",
              "       [ 3.19910004e+02, -3.88998400e+00],\n",
              "       [ 3.27290009e+02,  7.38000500e+00],\n",
              "       [ 3.33200012e+02,  5.91000300e+00],\n",
              "       [ 3.34690002e+02,  1.48999000e+00],\n",
              "       [ 3.42450012e+02,  7.76001000e+00],\n",
              "       [ 3.41250000e+02, -1.20001200e+00],\n",
              "       [ 3.41950012e+02,  7.00012000e-01],\n",
              "       [ 3.39320007e+02, -2.63000500e+00],\n",
              "       [ 3.36320007e+02, -3.00000000e+00],\n",
              "       [ 3.34750000e+02, -1.57000700e+00],\n",
              "       [ 3.29010010e+02, -5.73999000e+00],\n",
              "       [ 3.16380005e+02, -1.26300050e+01],\n",
              "       [ 3.13880005e+02, -2.50000000e+00],\n",
              "       [ 3.14040009e+02,  1.60004000e-01]])"
            ]
          },
          "metadata": {},
          "execution_count": 19
        }
      ],
      "source": [
        "env.signal_features"
      ]
    },
    {
      "cell_type": "markdown",
      "metadata": {
        "id": "3v8OAUaBjxm7"
      },
      "source": [
        "# 2. Building Environment"
      ]
    },
    {
      "cell_type": "code",
      "execution_count": null,
      "metadata": {
        "colab": {
          "base_uri": "https://localhost:8080/"
        },
        "id": "bvOB7SSxjxm8",
        "outputId": "e7fd4752-f44f-4a31-c2cc-12788d754c3d"
      },
      "outputs": [
        {
          "output_type": "execute_result",
          "data": {
            "text/plain": [
              "Discrete(2)"
            ]
          },
          "metadata": {},
          "execution_count": 20
        }
      ],
      "source": [
        "env.action_space"
      ]
    },
    {
      "cell_type": "code",
      "execution_count": null,
      "metadata": {
        "colab": {
          "base_uri": "https://localhost:8080/",
          "height": 435
        },
        "id": "JRbsXI1wjxm9",
        "outputId": "fae21ccc-89a5-4c74-b814-88f2cf0f8134"
      },
      "outputs": [
        {
          "output_type": "stream",
          "name": "stdout",
          "text": [
            "info {'total_reward': 24.570040000000063, 'total_profit': 0.7657455515531387, 'position': 0}\n"
          ]
        },
        {
          "output_type": "display_data",
          "data": {
            "image/png": "[encoded data removed]",
            "text/plain": [
              "<Figure size 1080x432 with 1 Axes>"
            ]
          },
          "metadata": {
            "needs_background": "light"
          }
        }
      ],
      "source": [
        "state = env.reset()\n",
        "while True: \n",
        "    action = env.action_space.sample()\n",
        "    n_state, reward, done, info = env.step(action)\n",
        "    if done: \n",
        "        print(\"info\", info)\n",
        "        break\n",
        "        \n",
        "plt.figure(figsize=(15,6))\n",
        "plt.cla()\n",
        "env.render_all()\n",
        "plt.show()"
      ]
    },
    {
      "cell_type": "markdown",
      "metadata": {
        "id": "cqrfGoG3jxm_"
      },
      "source": [
        "# 3. Building Environment and Training model"
      ]
    },
    {
      "cell_type": "code",
      "execution_count": null,
      "metadata": {
        "id": "K-24ZHWljxnA"
      },
      "outputs": [],
      "source": [
        "env_maker = lambda: gym.make('stocks-v0', df=df, frame_bound=(5,100), window_size=5)\n",
        "env = DummyVecEnv([env_maker])"
      ]
    },
    {
      "cell_type": "code",
      "execution_count": null,
      "metadata": {
        "scrolled": true,
        "colab": {
          "base_uri": "https://localhost:8080/"
        },
        "id": "NtUK7IMtjxnB",
        "outputId": "cebe6856-d744-4cd4-ad1e-68b71f328f02"
      },
      "outputs": [
        {
          "output_type": "stream",
          "name": "stdout",
          "text": [
            "WARNING:tensorflow:From /usr/local/lib/python3.7/dist-packages/stable_baselines/common/tf_util.py:191: The name tf.ConfigProto is deprecated. Please use tf.compat.v1.ConfigProto instead.\n",
            "\n",
            "WARNING:tensorflow:From /usr/local/lib/python3.7/dist-packages/stable_baselines/common/tf_util.py:200: The name tf.Session is deprecated. Please use tf.compat.v1.Session instead.\n",
            "\n",
            "WARNING:tensorflow:From /usr/local/lib/python3.7/dist-packages/stable_baselines/common/policies.py:116: The name tf.variable_scope is deprecated. Please use tf.compat.v1.variable_scope instead.\n",
            "\n",
            "WARNING:tensorflow:From /usr/local/lib/python3.7/dist-packages/stable_baselines/common/input.py:25: The name tf.placeholder is deprecated. Please use tf.compat.v1.placeholder instead.\n",
            "\n",
            "WARNING:tensorflow:From /usr/local/lib/python3.7/dist-packages/stable_baselines/common/policies.py:420: flatten (from tensorflow.python.layers.core) is deprecated and will be removed in a future version.\n",
            "Instructions for updating:\n",
            "Use keras.layers.flatten instead.\n",
            "WARNING:tensorflow:From /usr/local/lib/python3.7/dist-packages/tensorflow_core/python/layers/core.py:332: Layer.apply (from tensorflow.python.keras.engine.base_layer) is deprecated and will be removed in a future version.\n",
            "Instructions for updating:\n",
            "Please use `layer.__call__` method instead.\n",
            "WARNING:tensorflow:From /usr/local/lib/python3.7/dist-packages/stable_baselines/common/tf_layers.py:123: The name tf.get_variable is deprecated. Please use tf.compat.v1.get_variable instead.\n",
            "\n",
            "WARNING:tensorflow:From /usr/local/lib/python3.7/dist-packages/stable_baselines/common/distributions.py:326: The name tf.random_uniform is deprecated. Please use tf.random.uniform instead.\n",
            "\n",
            "WARNING:tensorflow:From /usr/local/lib/python3.7/dist-packages/stable_baselines/common/distributions.py:327: The name tf.log is deprecated. Please use tf.math.log instead.\n",
            "\n",
            "WARNING:tensorflow:From /usr/local/lib/python3.7/dist-packages/stable_baselines/a2c/a2c.py:160: The name tf.summary.scalar is deprecated. Please use tf.compat.v1.summary.scalar instead.\n",
            "\n",
            "WARNING:tensorflow:From /usr/local/lib/python3.7/dist-packages/stable_baselines/common/tf_util.py:449: The name tf.get_collection is deprecated. Please use tf.compat.v1.get_collection instead.\n",
            "\n",
            "WARNING:tensorflow:From /usr/local/lib/python3.7/dist-packages/stable_baselines/common/tf_util.py:449: The name tf.GraphKeys is deprecated. Please use tf.compat.v1.GraphKeys instead.\n",
            "\n",
            "WARNING:tensorflow:From /usr/local/lib/python3.7/dist-packages/tensorflow_core/python/ops/clip_ops.py:301: where (from tensorflow.python.ops.array_ops) is deprecated and will be removed in a future version.\n",
            "Instructions for updating:\n",
            "Use tf.where in 2.0, which has the same broadcast rule as np.where\n",
            "WARNING:tensorflow:From /usr/local/lib/python3.7/dist-packages/stable_baselines/a2c/a2c.py:184: The name tf.train.RMSPropOptimizer is deprecated. Please use tf.compat.v1.train.RMSPropOptimizer instead.\n",
            "\n",
            "WARNING:tensorflow:From /usr/local/lib/python3.7/dist-packages/tensorflow_core/python/training/rmsprop.py:119: calling Ones.__init__ (from tensorflow.python.ops.init_ops) with dtype is deprecated and will be removed in a future version.\n",
            "Instructions for updating:\n",
            "Call initializer instance with the dtype argument instead of passing it to the constructor\n",
            "WARNING:tensorflow:From /usr/local/lib/python3.7/dist-packages/stable_baselines/a2c/a2c.py:194: The name tf.global_variables_initializer is deprecated. Please use tf.compat.v1.global_variables_initializer instead.\n",
            "\n",
            "WARNING:tensorflow:From /usr/local/lib/python3.7/dist-packages/stable_baselines/a2c/a2c.py:196: The name tf.summary.merge_all is deprecated. Please use tf.compat.v1.summary.merge_all instead.\n",
            "\n",
            "---------------------------------\n",
            "| explained_variance | -0.00252 |\n",
            "| fps                | 16       |\n",
            "| nupdates           | 1        |\n",
            "| policy_entropy     | 0.693    |\n",
            "| total_timesteps    | 5        |\n",
            "| value_loss         | 1.6      |\n",
            "---------------------------------\n",
            "---------------------------------\n",
            "| explained_variance | 0.00125  |\n",
            "| fps                | 333      |\n",
            "| nupdates           | 100      |\n",
            "| policy_entropy     | 0.693    |\n",
            "| total_timesteps    | 500      |\n",
            "| value_loss         | 77.3     |\n",
            "---------------------------------\n",
            "---------------------------------\n",
            "| explained_variance | -0.464   |\n",
            "| fps                | 373      |\n",
            "| nupdates           | 200      |\n",
            "| policy_entropy     | 0.693    |\n",
            "| total_timesteps    | 1000     |\n",
            "| value_loss         | 3        |\n",
            "---------------------------------\n",
            "---------------------------------\n",
            "| explained_variance | 0.0013   |\n",
            "| fps                | 388      |\n",
            "| nupdates           | 300      |\n",
            "| policy_entropy     | 0.693    |\n",
            "| total_timesteps    | 1500     |\n",
            "| value_loss         | 5.9      |\n",
            "---------------------------------\n",
            "----------------------------------\n",
            "| explained_variance | -0.000391 |\n",
            "| fps                | 398       |\n",
            "| nupdates           | 400       |\n",
            "| policy_entropy     | 0.693     |\n",
            "| total_timesteps    | 2000      |\n",
            "| value_loss         | 139       |\n",
            "----------------------------------\n",
            "---------------------------------\n",
            "| explained_variance | 0.00206  |\n",
            "| fps                | 401      |\n",
            "| nupdates           | 500      |\n",
            "| policy_entropy     | 0.691    |\n",
            "| total_timesteps    | 2500     |\n",
            "| value_loss         | 1.18     |\n",
            "---------------------------------\n",
            "---------------------------------\n",
            "| explained_variance | -0.00177 |\n",
            "| fps                | 402      |\n",
            "| nupdates           | 600      |\n",
            "| policy_entropy     | 0.688    |\n",
            "| total_timesteps    | 3000     |\n",
            "| value_loss         | 34.8     |\n",
            "---------------------------------\n",
            "---------------------------------\n",
            "| explained_variance | 0.00204  |\n",
            "| fps                | 403      |\n",
            "| nupdates           | 700      |\n",
            "| policy_entropy     | 0.692    |\n",
            "| total_timesteps    | 3500     |\n",
            "| value_loss         | 5.16     |\n",
            "---------------------------------\n",
            "---------------------------------\n",
            "| explained_variance | -0.0108  |\n",
            "| fps                | 405      |\n",
            "| nupdates           | 800      |\n",
            "| policy_entropy     | 0.693    |\n",
            "| total_timesteps    | 4000     |\n",
            "| value_loss         | 4.74     |\n",
            "---------------------------------\n",
            "---------------------------------\n",
            "| explained_variance | 0.00692  |\n",
            "| fps                | 406      |\n",
            "| nupdates           | 900      |\n",
            "| policy_entropy     | 0.68     |\n",
            "| total_timesteps    | 4500     |\n",
            "| value_loss         | 4.58     |\n",
            "---------------------------------\n",
            "----------------------------------\n",
            "| explained_variance | -0.000315 |\n",
            "| fps                | 407       |\n",
            "| nupdates           | 1000      |\n",
            "| policy_entropy     | 0.671     |\n",
            "| total_timesteps    | 5000      |\n",
            "| value_loss         | 11.6      |\n",
            "----------------------------------\n",
            "---------------------------------\n",
            "| explained_variance | 0.0183   |\n",
            "| fps                | 409      |\n",
            "| nupdates           | 1100     |\n",
            "| policy_entropy     | 0.677    |\n",
            "| total_timesteps    | 5500     |\n",
            "| value_loss         | 4.06     |\n",
            "---------------------------------\n",
            "---------------------------------\n",
            "| explained_variance | -1.04    |\n",
            "| fps                | 409      |\n",
            "| nupdates           | 1200     |\n",
            "| policy_entropy     | 0.641    |\n",
            "| total_timesteps    | 6000     |\n",
            "| value_loss         | 0.137    |\n",
            "---------------------------------\n",
            "---------------------------------\n",
            "| explained_variance | -0.00151 |\n",
            "| fps                | 410      |\n",
            "| nupdates           | 1300     |\n",
            "| policy_entropy     | 0.69     |\n",
            "| total_timesteps    | 6500     |\n",
            "| value_loss         | 1.87     |\n",
            "---------------------------------\n",
            "---------------------------------\n",
            "| explained_variance | -0.0214  |\n",
            "| fps                | 411      |\n",
            "| nupdates           | 1400     |\n",
            "| policy_entropy     | 0.687    |\n",
            "| total_timesteps    | 7000     |\n",
            "| value_loss         | 1.22     |\n",
            "---------------------------------\n",
            "---------------------------------\n",
            "| explained_variance | -0.0155  |\n",
            "| fps                | 410      |\n",
            "| nupdates           | 1500     |\n",
            "| policy_entropy     | 0.64     |\n",
            "| total_timesteps    | 7500     |\n",
            "| value_loss         | 4.46     |\n",
            "---------------------------------\n",
            "---------------------------------\n",
            "| explained_variance | 0.772    |\n",
            "| fps                | 409      |\n",
            "| nupdates           | 1600     |\n",
            "| policy_entropy     | 0.687    |\n",
            "| total_timesteps    | 8000     |\n",
            "| value_loss         | 6.53e-05 |\n",
            "---------------------------------\n",
            "---------------------------------\n",
            "| explained_variance | 0.0374   |\n",
            "| fps                | 410      |\n",
            "| nupdates           | 1700     |\n",
            "| policy_entropy     | 0.687    |\n",
            "| total_timesteps    | 8500     |\n",
            "| value_loss         | 0.382    |\n",
            "---------------------------------\n",
            "---------------------------------\n",
            "| explained_variance | -0.0463  |\n",
            "| fps                | 411      |\n",
            "| nupdates           | 1800     |\n",
            "| policy_entropy     | 0.602    |\n",
            "| total_timesteps    | 9000     |\n",
            "| value_loss         | 0.18     |\n",
            "---------------------------------\n",
            "---------------------------------\n",
            "| explained_variance | 0.00651  |\n",
            "| fps                | 412      |\n",
            "| nupdates           | 1900     |\n",
            "| policy_entropy     | 0.662    |\n",
            "| total_timesteps    | 9500     |\n",
            "| value_loss         | 1.74     |\n",
            "---------------------------------\n",
            "---------------------------------\n",
            "| explained_variance | -0.55    |\n",
            "| fps                | 412      |\n",
            "| nupdates           | 2000     |\n",
            "| policy_entropy     | 0.674    |\n",
            "| total_timesteps    | 10000    |\n",
            "| value_loss         | 0.000366 |\n",
            "---------------------------------\n",
            "---------------------------------\n",
            "| explained_variance | 0.00973  |\n",
            "| fps                | 413      |\n",
            "| nupdates           | 2100     |\n",
            "| policy_entropy     | 0.638    |\n",
            "| total_timesteps    | 10500    |\n",
            "| value_loss         | 1.91     |\n",
            "---------------------------------\n",
            "---------------------------------\n",
            "| explained_variance | -0.592   |\n",
            "| fps                | 413      |\n",
            "| nupdates           | 2200     |\n",
            "| policy_entropy     | 0.649    |\n",
            "| total_timesteps    | 11000    |\n",
            "| value_loss         | 0.55     |\n",
            "---------------------------------\n",
            "---------------------------------\n",
            "| explained_variance | 0.0174   |\n",
            "| fps                | 413      |\n",
            "| nupdates           | 2300     |\n",
            "| policy_entropy     | 0.693    |\n",
            "| total_timesteps    | 11500    |\n",
            "| value_loss         | 118      |\n",
            "---------------------------------\n",
            "---------------------------------\n",
            "| explained_variance | -0.0431  |\n",
            "| fps                | 413      |\n",
            "| nupdates           | 2400     |\n",
            "| policy_entropy     | 0.683    |\n",
            "| total_timesteps    | 12000    |\n",
            "| value_loss         | 0.0764   |\n",
            "---------------------------------\n",
            "---------------------------------\n",
            "| explained_variance | 0.00269  |\n",
            "| fps                | 413      |\n",
            "| nupdates           | 2500     |\n",
            "| policy_entropy     | 0.68     |\n",
            "| total_timesteps    | 12500    |\n",
            "| value_loss         | 12.4     |\n",
            "---------------------------------\n",
            "---------------------------------\n",
            "| explained_variance | -0.00163 |\n",
            "| fps                | 413      |\n",
            "| nupdates           | 2600     |\n",
            "| policy_entropy     | 0.687    |\n",
            "| total_timesteps    | 13000    |\n",
            "| value_loss         | 28.1     |\n",
            "---------------------------------\n",
            "---------------------------------\n",
            "| explained_variance | 0.00365  |\n",
            "| fps                | 413      |\n",
            "| nupdates           | 2700     |\n",
            "| policy_entropy     | 0.635    |\n",
            "| total_timesteps    | 13500    |\n",
            "| value_loss         | 16.7     |\n",
            "---------------------------------\n",
            "---------------------------------\n",
            "| explained_variance | -0.0022  |\n",
            "| fps                | 414      |\n",
            "| nupdates           | 2800     |\n",
            "| policy_entropy     | 0.68     |\n",
            "| total_timesteps    | 14000    |\n",
            "| value_loss         | 14.8     |\n",
            "---------------------------------\n",
            "---------------------------------\n",
            "| explained_variance | -0.0273  |\n",
            "| fps                | 414      |\n",
            "| nupdates           | 2900     |\n",
            "| policy_entropy     | 0.691    |\n",
            "| total_timesteps    | 14500    |\n",
            "| value_loss         | 0.000574 |\n",
            "---------------------------------\n",
            "---------------------------------\n",
            "| explained_variance | -0.00924 |\n",
            "| fps                | 414      |\n",
            "| nupdates           | 3000     |\n",
            "| policy_entropy     | 0.564    |\n",
            "| total_timesteps    | 15000    |\n",
            "| value_loss         | 0.928    |\n",
            "---------------------------------\n",
            "---------------------------------\n",
            "| explained_variance | -0.0324  |\n",
            "| fps                | 414      |\n",
            "| nupdates           | 3100     |\n",
            "| policy_entropy     | 0.481    |\n",
            "| total_timesteps    | 15500    |\n",
            "| value_loss         | 0.00062  |\n",
            "---------------------------------\n",
            "---------------------------------\n",
            "| explained_variance | -0.0928  |\n",
            "| fps                | 414      |\n",
            "| nupdates           | 3200     |\n",
            "| policy_entropy     | 0.428    |\n",
            "| total_timesteps    | 16000    |\n",
            "| value_loss         | 0.000179 |\n",
            "---------------------------------\n",
            "---------------------------------\n",
            "| explained_variance | -0.00535 |\n",
            "| fps                | 414      |\n",
            "| nupdates           | 3300     |\n",
            "| policy_entropy     | 0.261    |\n",
            "| total_timesteps    | 16500    |\n",
            "| value_loss         | 10.7     |\n",
            "---------------------------------\n",
            "---------------------------------\n",
            "| explained_variance | -3.42    |\n",
            "| fps                | 415      |\n",
            "| nupdates           | 3400     |\n",
            "| policy_entropy     | 0.312    |\n",
            "| total_timesteps    | 17000    |\n",
            "| value_loss         | 7.39e-06 |\n",
            "---------------------------------\n",
            "---------------------------------\n",
            "| explained_variance | -0.00121 |\n",
            "| fps                | 414      |\n",
            "| nupdates           | 3500     |\n",
            "| policy_entropy     | 0.486    |\n",
            "| total_timesteps    | 17500    |\n",
            "| value_loss         | 0.325    |\n",
            "---------------------------------\n",
            "----------------------------------\n",
            "| explained_variance | -0.000312 |\n",
            "| fps                | 414       |\n",
            "| nupdates           | 3600      |\n",
            "| policy_entropy     | 0.214     |\n",
            "| total_timesteps    | 18000     |\n",
            "| value_loss         | 1.57      |\n",
            "----------------------------------\n",
            "---------------------------------\n",
            "| explained_variance | 0.788    |\n",
            "| fps                | 415      |\n",
            "| nupdates           | 3700     |\n",
            "| policy_entropy     | 0.545    |\n",
            "| total_timesteps    | 18500    |\n",
            "| value_loss         | 9.41e-05 |\n",
            "---------------------------------\n",
            "---------------------------------\n",
            "| explained_variance | 0.12     |\n",
            "| fps                | 414      |\n",
            "| nupdates           | 3800     |\n",
            "| policy_entropy     | 0.44     |\n",
            "| total_timesteps    | 19000    |\n",
            "| value_loss         | 1.55     |\n",
            "---------------------------------\n",
            "---------------------------------\n",
            "| explained_variance | 0.00724  |\n",
            "| fps                | 414      |\n",
            "| nupdates           | 3900     |\n",
            "| policy_entropy     | 0.593    |\n",
            "| total_timesteps    | 19500    |\n",
            "| value_loss         | 1.99     |\n",
            "---------------------------------\n",
            "---------------------------------\n",
            "| explained_variance | -0.0132  |\n",
            "| fps                | 414      |\n",
            "| nupdates           | 4000     |\n",
            "| policy_entropy     | 0.692    |\n",
            "| total_timesteps    | 20000    |\n",
            "| value_loss         | 0.508    |\n",
            "---------------------------------\n",
            "---------------------------------\n",
            "| explained_variance | 0.0022   |\n",
            "| fps                | 414      |\n",
            "| nupdates           | 4100     |\n",
            "| policy_entropy     | 0.675    |\n",
            "| total_timesteps    | 20500    |\n",
            "| value_loss         | 2.44     |\n",
            "---------------------------------\n",
            "---------------------------------\n",
            "| explained_variance | -0.0732  |\n",
            "| fps                | 413      |\n",
            "| nupdates           | 4200     |\n",
            "| policy_entropy     | 0.684    |\n",
            "| total_timesteps    | 21000    |\n",
            "| value_loss         | 28.6     |\n",
            "---------------------------------\n",
            "---------------------------------\n",
            "| explained_variance | -0.0586  |\n",
            "| fps                | 413      |\n",
            "| nupdates           | 4300     |\n",
            "| policy_entropy     | 0.687    |\n",
            "| total_timesteps    | 21500    |\n",
            "| value_loss         | 55.9     |\n",
            "---------------------------------\n",
            "---------------------------------\n",
            "| explained_variance | -0.0372  |\n",
            "| fps                | 413      |\n",
            "| nupdates           | 4400     |\n",
            "| policy_entropy     | 0.673    |\n",
            "| total_timesteps    | 22000    |\n",
            "| value_loss         | 12.4     |\n",
            "---------------------------------\n",
            "---------------------------------\n",
            "| explained_variance | -0.0438  |\n",
            "| fps                | 413      |\n",
            "| nupdates           | 4500     |\n",
            "| policy_entropy     | 0.582    |\n",
            "| total_timesteps    | 22500    |\n",
            "| value_loss         | 0.00139  |\n",
            "---------------------------------\n",
            "---------------------------------\n",
            "| explained_variance | 0.000204 |\n",
            "| fps                | 413      |\n",
            "| nupdates           | 4600     |\n",
            "| policy_entropy     | 0.563    |\n",
            "| total_timesteps    | 23000    |\n",
            "| value_loss         | 1.91     |\n",
            "---------------------------------\n",
            "---------------------------------\n",
            "| explained_variance | nan      |\n",
            "| fps                | 413      |\n",
            "| nupdates           | 4700     |\n",
            "| policy_entropy     | 0.568    |\n",
            "| total_timesteps    | 23500    |\n",
            "| value_loss         | 1.32     |\n",
            "---------------------------------\n",
            "---------------------------------\n",
            "| explained_variance | 0.00123  |\n",
            "| fps                | 412      |\n",
            "| nupdates           | 4800     |\n",
            "| policy_entropy     | 0.519    |\n",
            "| total_timesteps    | 24000    |\n",
            "| value_loss         | 9.23     |\n",
            "---------------------------------\n",
            "---------------------------------\n",
            "| explained_variance | 0.359    |\n",
            "| fps                | 412      |\n",
            "| nupdates           | 4900     |\n",
            "| policy_entropy     | 0.473    |\n",
            "| total_timesteps    | 24500    |\n",
            "| value_loss         | 0.00077  |\n",
            "---------------------------------\n",
            "---------------------------------\n",
            "| explained_variance | -0.025   |\n",
            "| fps                | 412      |\n",
            "| nupdates           | 5000     |\n",
            "| policy_entropy     | 0.441    |\n",
            "| total_timesteps    | 25000    |\n",
            "| value_loss         | 0.000616 |\n",
            "---------------------------------\n"
          ]
        },
        {
          "output_type": "execute_result",
          "data": {
            "text/plain": [
              "<stable_baselines.a2c.a2c.A2C at 0x7f386d660090>"
            ]
          },
          "metadata": {},
          "execution_count": 23
        }
      ],
      "source": [
        "model = A2C('MlpLstmPolicy', env, verbose=1) \n",
        "model.learn(total_timesteps=25000)"
      ]
    },
    {
      "cell_type": "markdown",
      "metadata": {
        "id": "py42jQJKjxnC"
      },
      "source": [
        "# 4. Evaluation"
      ]
    },
    {
      "cell_type": "code",
      "execution_count": null,
      "metadata": {
        "colab": {
          "base_uri": "https://localhost:8080/"
        },
        "id": "XHiAPiBCjxnD",
        "outputId": "461f17c1-a708-4345-9b39-ac553a0be751"
      },
      "outputs": [
        {
          "output_type": "stream",
          "name": "stdout",
          "text": [
            "info {'total_reward': -1.0499879999999848, 'total_profit': 0.9816325517928146, 'position': 1}\n"
          ]
        }
      ],
      "source": [
        "env = gym.make('stocks-v0', df=df, frame_bound=(90,110), window_size=5)\n",
        "obs = env.reset()\n",
        "while True: \n",
        "    obs = obs[np.newaxis, ...]\n",
        "    action, _states = model.predict(obs)\n",
        "    obs, rewards, done, info = env.step(action)\n",
        "    if done:\n",
        "        print(\"info\", info)\n",
        "        break"
      ]
    },
    {
      "cell_type": "code",
      "execution_count": null,
      "metadata": {
        "colab": {
          "base_uri": "https://localhost:8080/",
          "height": 417
        },
        "id": "CVxNrtEXjxnH",
        "outputId": "c8d88d71-1cc8-4d51-b6e6-f14d36ff6eab"
      },
      "outputs": [
        {
          "output_type": "display_data",
          "data": {
            "image/png": "[encoded data removed]",
            "text/plain": [
              "<Figure size 1080x432 with 1 Axes>"
            ]
          },
          "metadata": {
            "needs_background": "light"
          }
        }
      ],
      "source": [
        "plt.figure(figsize=(15,6))\n",
        "plt.cla()\n",
        "env.render_all()\n",
        "plt.show()"
      ]
    },
    {
      "cell_type": "code",
      "execution_count": null,
      "metadata": {
        "id": "yXG7JQ54jxnJ"
      },
      "outputs": [],
      "source": [
        "from stable_baselines.common.policies import MlpPolicy, MlpLstmPolicy, MlpLnLstmPolicy\n",
        "from stable_baselines.common import make_vec_env\n",
        "from stable_baselines import ACKTR\n",
        "\n",
        "env_maker2 = lambda: gym.make('stocks-v0', df=df, frame_bound=(5,100), window_size=5)\n",
        "env = DummyVecEnv([env_maker2])"
      ]
    },
    {
      "cell_type": "code",
      "source": [
        "model = ACKTR('MlpLstmPolicy', env, verbose=1)\n",
        "model.learn(total_timesteps=25000)"
      ],
      "metadata": {
        "colab": {
          "base_uri": "https://localhost:8080/"
        },
        "id": "CPfVE9qM7Icn",
        "outputId": "c6bd1ef2-5ec8-4743-c582-8c3b10edd50c"
      },
      "execution_count": null,
      "outputs": [
        {
          "output_type": "stream",
          "name": "stdout",
          "text": [
            "WARNING:tensorflow:From /usr/local/lib/python3.7/dist-packages/stable_baselines/acktr/acktr.py:176: The name tf.random_normal is deprecated. Please use tf.random.normal instead.\n",
            "\n",
            "WARNING:tensorflow:From /usr/local/lib/python3.7/dist-packages/stable_baselines/acktr/kfac.py:99: The name tf.get_default_graph is deprecated. Please use tf.compat.v1.get_default_graph instead.\n",
            "\n",
            "WARNING:tensorflow:From /usr/local/lib/python3.7/dist-packages/stable_baselines/acktr/kfac.py:298: The name tf.diag is deprecated. Please use tf.linalg.tensor_diag instead.\n",
            "\n",
            "WARNING:tensorflow:From /usr/local/lib/python3.7/dist-packages/stable_baselines/acktr/kfac.py:546: The name tf.assign is deprecated. Please use tf.compat.v1.assign instead.\n",
            "\n",
            "WARNING:tensorflow:From /usr/local/lib/python3.7/dist-packages/stable_baselines/acktr/kfac.py:548: The name tf.assign_add is deprecated. Please use tf.compat.v1.assign_add instead.\n",
            "\n",
            "WARNING:tensorflow:From /usr/local/lib/python3.7/dist-packages/stable_baselines/acktr/acktr.py:306: The name tf.global_variables is deprecated. Please use tf.compat.v1.global_variables instead.\n",
            "\n",
            "WARNING:tensorflow:From /usr/local/lib/python3.7/dist-packages/stable_baselines/acktr/acktr.py:307: The name tf.is_variable_initialized is deprecated. Please use tf.compat.v1.is_variable_initialized instead.\n",
            "\n",
            "WARNING:tensorflow:From /usr/local/lib/python3.7/dist-packages/stable_baselines/acktr/kfac.py:973: The name tf.train.MomentumOptimizer is deprecated. Please use tf.compat.v1.train.MomentumOptimizer instead.\n",
            "\n",
            "WARNING:tensorflow:From /usr/local/lib/python3.7/dist-packages/stable_baselines/acktr/kfac.py:914: The name tf.mod is deprecated. Please use tf.math.mod instead.\n",
            "\n",
            "WARNING:tensorflow:From /usr/local/lib/python3.7/dist-packages/stable_baselines/acktr/kfac.py:621: The name tf.self_adjoint_eig is deprecated. Please use tf.linalg.eigh instead.\n",
            "\n",
            "WARNING:tensorflow:From /usr/local/lib/python3.7/dist-packages/stable_baselines/acktr/acktr.py:319: The name tf.variables_initializer is deprecated. Please use tf.compat.v1.variables_initializer instead.\n",
            "\n",
            "---------------------------------\n",
            "| explained_variance | -0.00216 |\n",
            "| fps                | 16       |\n",
            "| nupdates           | 1        |\n",
            "| policy_entropy     | 0.693    |\n",
            "| policy_loss        | 3.46     |\n",
            "| total_timesteps    | 20       |\n",
            "| value_loss         | 35.9     |\n",
            "---------------------------------\n",
            "----------------------------------\n",
            "| explained_variance | -0.000746 |\n",
            "| fps                | 22        |\n",
            "| nupdates           | 100       |\n",
            "| policy_entropy     | 0.692     |\n",
            "| policy_loss        | -3.4      |\n",
            "| total_timesteps    | 2000      |\n",
            "| value_loss         | 46.6      |\n",
            "----------------------------------\n",
            "---------------------------------\n",
            "| explained_variance | 0.000174 |\n",
            "| fps                | 21       |\n",
            "| nupdates           | 200      |\n",
            "| policy_entropy     | 0.592    |\n",
            "| policy_loss        | 13       |\n",
            "| total_timesteps    | 4000     |\n",
            "| value_loss         | 402      |\n",
            "---------------------------------\n",
            "---------------------------------\n",
            "| explained_variance | 0.0043   |\n",
            "| fps                | 21       |\n",
            "| nupdates           | 300      |\n",
            "| policy_entropy     | 0.437    |\n",
            "| policy_loss        | -1.44    |\n",
            "| total_timesteps    | 6000     |\n",
            "| value_loss         | 11.2     |\n",
            "---------------------------------\n",
            "---------------------------------\n",
            "| explained_variance | -0.126   |\n",
            "| fps                | 20       |\n",
            "| nupdates           | 400      |\n",
            "| policy_entropy     | 0.575    |\n",
            "| policy_loss        | 0.297    |\n",
            "| total_timesteps    | 8000     |\n",
            "| value_loss         | 1.01     |\n",
            "---------------------------------\n",
            "----------------------------------\n",
            "| explained_variance | -3.35e-05 |\n",
            "| fps                | 20        |\n",
            "| nupdates           | 500       |\n",
            "| policy_entropy     | 0.682     |\n",
            "| policy_loss        | 5.45      |\n",
            "| total_timesteps    | 10000     |\n",
            "| value_loss         | 116       |\n",
            "----------------------------------\n",
            "----------------------------------\n",
            "| explained_variance | -3.56e-05 |\n",
            "| fps                | 20        |\n",
            "| nupdates           | 600       |\n",
            "| policy_entropy     | 0.439     |\n",
            "| policy_loss        | 2.75      |\n",
            "| total_timesteps    | 12000     |\n",
            "| value_loss         | 109       |\n",
            "----------------------------------\n",
            "----------------------------------\n",
            "| explained_variance | -8.46e-05 |\n",
            "| fps                | 20        |\n",
            "| nupdates           | 700       |\n",
            "| policy_entropy     | 0.671     |\n",
            "| policy_loss        | 10        |\n",
            "| total_timesteps    | 14000     |\n",
            "| value_loss         | 233       |\n",
            "----------------------------------\n",
            "---------------------------------\n",
            "| explained_variance | 0.0185   |\n",
            "| fps                | 20       |\n",
            "| nupdates           | 800      |\n",
            "| policy_entropy     | 0.625    |\n",
            "| policy_loss        | 1.59     |\n",
            "| total_timesteps    | 16000    |\n",
            "| value_loss         | 7.86     |\n",
            "---------------------------------\n",
            "---------------------------------\n",
            "| explained_variance | 0.000147 |\n",
            "| fps                | 20       |\n",
            "| nupdates           | 900      |\n",
            "| policy_entropy     | 0.678    |\n",
            "| policy_loss        | 13.7     |\n",
            "| total_timesteps    | 18000    |\n",
            "| value_loss         | 431      |\n",
            "---------------------------------\n",
            "---------------------------------\n",
            "| explained_variance | 0.000228 |\n",
            "| fps                | 20       |\n",
            "| nupdates           | 1000     |\n",
            "| policy_entropy     | 0.588    |\n",
            "| policy_loss        | -6.37    |\n",
            "| total_timesteps    | 20000    |\n",
            "| value_loss         | 85.8     |\n",
            "---------------------------------\n",
            "---------------------------------\n",
            "| explained_variance | -0.0131  |\n",
            "| fps                | 20       |\n",
            "| nupdates           | 1100     |\n",
            "| policy_entropy     | 0.644    |\n",
            "| policy_loss        | -2.52    |\n",
            "| total_timesteps    | 22000    |\n",
            "| value_loss         | 73.6     |\n",
            "---------------------------------\n",
            "---------------------------------\n",
            "| explained_variance | 0.00011  |\n",
            "| fps                | 20       |\n",
            "| nupdates           | 1200     |\n",
            "| policy_entropy     | 0.67     |\n",
            "| policy_loss        | 5.36     |\n",
            "| total_timesteps    | 24000    |\n",
            "| value_loss         | 65.8     |\n",
            "---------------------------------\n"
          ]
        },
        {
          "output_type": "execute_result",
          "data": {
            "text/plain": [
              "<stable_baselines.acktr.acktr.ACKTR at 0x7f38639a1590>"
            ]
          },
          "metadata": {},
          "execution_count": 27
        }
      ]
    },
    {
      "cell_type": "code",
      "source": [
        "env = gym.make('stocks-v0', df=df, frame_bound=(90,110), window_size=5)\n",
        "obs = env.reset()\n",
        "while True: \n",
        "    obs = obs[np.newaxis, ...]\n",
        "    action, _states = model.predict(obs)\n",
        "    obs, rewards, done, info = env.step(action)\n",
        "    if done:\n",
        "        print(\"info\", info)\n",
        "        break"
      ],
      "metadata": {
        "colab": {
          "base_uri": "https://localhost:8080/"
        },
        "id": "c9gE8EoVAxyA",
        "outputId": "3621c4c7-a625-4050-ab23-fe482eb72eb4"
      },
      "execution_count": null,
      "outputs": [
        {
          "output_type": "stream",
          "name": "stdout",
          "text": [
            "info {'total_reward': -35.999999, 'total_profit': 0.8432000889345194, 'position': 1}\n"
          ]
        }
      ]
    },
    {
      "cell_type": "code",
      "source": [
        "plt.figure(figsize=(15,6))\n",
        "plt.cla()\n",
        "env.render_all()\n",
        "plt.show()"
      ],
      "metadata": {
        "colab": {
          "base_uri": "https://localhost:8080/",
          "height": 417
        },
        "id": "A7bxe74gA9Dk",
        "outputId": "6e485732-997a-4bcc-f48b-7f02aef6912c"
      },
      "execution_count": null,
      "outputs": [
        {
          "output_type": "display_data",
          "data": {
            "image/png": "[encoded data removed]",
            "text/plain": [
              "<Figure size 1080x432 with 1 Axes>"
            ]
          },
          "metadata": {
            "needs_background": "light"
          }
        }
      ]
    }
  ],
  "metadata": {
    "kernelspec": {
      "display_name": "Python 3",
      "language": "python",
      "name": "python3"
    },
    "language_info": {
      "codemirror_mode": {
        "name": "ipython",
        "version": 3
      },
      "file_extension": ".py",
      "mimetype": "text/x-python",
      "name": "python",
      "nbconvert_exporter": "python",
      "pygments_lexer": "ipython3",
      "version": "3.8.8"
    },
    "colab": {
      "provenance": [],
      "include_colab_link": true
    }
  },
  "nbformat": 4,
  "nbformat_minor": 0
}